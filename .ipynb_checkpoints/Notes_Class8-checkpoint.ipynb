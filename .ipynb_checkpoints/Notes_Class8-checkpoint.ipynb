{
 "cells": [
  {
   "cell_type": "code",
   "execution_count": 2,
   "metadata": {
    "collapsed": false
   },
   "outputs": [
    {
     "ename": "ERROR",
     "evalue": "Error in parse(text = x, srcfile = src): <text>:2:34: unexpected input\n1: f <- function(x, param){\n2:     return(param[1]*(x - param[2])<cb>\n                                    ^\n",
     "output_type": "error",
     "traceback": "Error in parse(text = x, srcfile = src): <text>:2:34: unexpected input\n1: f <- function(x, param){\n2:     return(param[1]*(x - param[2])<cb>\n                                    ^\nTraceback:\n"
    }
   ],
   "source": [
    "f <- function(x, param){\n",
    "    return(param[1]*(x - param[2])ˆ3)\n",
    "}\n",
    "\n",
    "f_prime <- function(x, param){\n",
    "    return(param[1]*3*(x - param[2])ˆ2)\n",
    "}"
   ]
  },
  {
   "cell_type": "code",
   "execution_count": 3,
   "metadata": {
    "collapsed": true
   },
   "outputs": [],
   "source": [
    "newton <- function(f, f_prime, x0, param, tol=1e-1, maxits=10){\n",
    "    x1 <- 0\n",
    "    norm <- 1e9\n",
    "    \n",
    "    i <- 1\n",
    "    \n",
    "    while(i <= maxits & norm > tol){\n",
    "        x1 <- x0 - f(x0, param)/f_prime(x0, param)\n",
    "        norm <- abs(x1 - x0)\n",
    "        x0 <- x1\n",
    "        i <- i + 1\n",
    "        \n",
    "        print(i)\n",
    "        if(i==maxits){\n",
    "            print(\"maxits\")\n",
    "        }\n",
    "    }\n",
    "    return(x1)\n",
    "}"
   ]
  },
  {
   "cell_type": "code",
   "execution_count": 4,
   "metadata": {
    "collapsed": false
   },
   "outputs": [
    {
     "ename": "ERROR",
     "evalue": "Error: objeto 'f' não encontrado\n",
     "output_type": "error",
     "traceback": [
      "Error: objeto 'f' não encontrado\nTraceback:\n",
      "1. newton(f, f_prime, 2, c(1, 0))"
     ]
    }
   ],
   "source": [
    "newton(f, f_prime, 2.0, c(1.0, 0.0))"
   ]
  },
  {
   "cell_type": "code",
   "execution_count": null,
   "metadata": {
    "collapsed": true
   },
   "outputs": [],
   "source": []
  }
 ],
 "metadata": {
  "anaconda-cloud": {},
  "kernelspec": {
   "display_name": "R",
   "language": "R",
   "name": "ir"
  },
  "language_info": {
   "codemirror_mode": "r",
   "file_extension": ".r",
   "mimetype": "text/x-r-source",
   "name": "R",
   "pygments_lexer": "r",
   "version": "3.3.1"
  }
 },
 "nbformat": 4,
 "nbformat_minor": 0
}
