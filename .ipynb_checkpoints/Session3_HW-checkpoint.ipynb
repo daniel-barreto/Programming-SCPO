{
 "cells": [
  {
   "cell_type": "code",
   "execution_count": 20,
   "metadata": {
    "collapsed": false
   },
   "outputs": [],
   "source": [
    "#Homework for the third week of Programming\n",
    "#Author: Daniel M. A. Barreto"
   ]
  },
  {
   "cell_type": "code",
   "execution_count": 9,
   "metadata": {
    "collapsed": false
   },
   "outputs": [
    {
     "data": {
      "text/html": [
       "<ol class=list-inline>\n",
       "\t<li>1</li>\n",
       "\t<li>2</li>\n",
       "\t<li>3</li>\n",
       "\t<li>4</li>\n",
       "\t<li>1</li>\n",
       "\t<li>2</li>\n",
       "\t<li>3</li>\n",
       "\t<li>4</li>\n",
       "\t<li>1</li>\n",
       "\t<li>2</li>\n",
       "\t<li>3</li>\n",
       "\t<li>4</li>\n",
       "\t<li>1</li>\n",
       "\t<li>2</li>\n",
       "\t<li>3</li>\n",
       "\t<li>4</li>\n",
       "\t<li>1</li>\n",
       "\t<li>2</li>\n",
       "\t<li>3</li>\n",
       "\t<li>4</li>\n",
       "\t<li>1</li>\n",
       "\t<li>2</li>\n",
       "\t<li>3</li>\n",
       "\t<li>4</li>\n",
       "\t<li>1</li>\n",
       "\t<li>2</li>\n",
       "\t<li>3</li>\n",
       "\t<li>4</li>\n",
       "\t<li>1</li>\n",
       "\t<li>2</li>\n",
       "\t<li>3</li>\n",
       "\t<li>4</li>\n",
       "\t<li>1</li>\n",
       "\t<li>2</li>\n",
       "\t<li>3</li>\n",
       "\t<li>4</li>\n",
       "\t<li>1</li>\n",
       "\t<li>2</li>\n",
       "\t<li>3</li>\n",
       "\t<li>4</li>\n",
       "</ol>\n"
      ],
      "text/latex": [
       "\\begin{enumerate*}\n",
       "\\item 1\n",
       "\\item 2\n",
       "\\item 3\n",
       "\\item 4\n",
       "\\item 1\n",
       "\\item 2\n",
       "\\item 3\n",
       "\\item 4\n",
       "\\item 1\n",
       "\\item 2\n",
       "\\item 3\n",
       "\\item 4\n",
       "\\item 1\n",
       "\\item 2\n",
       "\\item 3\n",
       "\\item 4\n",
       "\\item 1\n",
       "\\item 2\n",
       "\\item 3\n",
       "\\item 4\n",
       "\\item 1\n",
       "\\item 2\n",
       "\\item 3\n",
       "\\item 4\n",
       "\\item 1\n",
       "\\item 2\n",
       "\\item 3\n",
       "\\item 4\n",
       "\\item 1\n",
       "\\item 2\n",
       "\\item 3\n",
       "\\item 4\n",
       "\\item 1\n",
       "\\item 2\n",
       "\\item 3\n",
       "\\item 4\n",
       "\\item 1\n",
       "\\item 2\n",
       "\\item 3\n",
       "\\item 4\n",
       "\\end{enumerate*}\n"
      ],
      "text/markdown": [
       "1. 1\n",
       "2. 2\n",
       "3. 3\n",
       "4. 4\n",
       "5. 1\n",
       "6. 2\n",
       "7. 3\n",
       "8. 4\n",
       "9. 1\n",
       "10. 2\n",
       "11. 3\n",
       "12. 4\n",
       "13. 1\n",
       "14. 2\n",
       "15. 3\n",
       "16. 4\n",
       "17. 1\n",
       "18. 2\n",
       "19. 3\n",
       "20. 4\n",
       "21. 1\n",
       "22. 2\n",
       "23. 3\n",
       "24. 4\n",
       "25. 1\n",
       "26. 2\n",
       "27. 3\n",
       "28. 4\n",
       "29. 1\n",
       "30. 2\n",
       "31. 3\n",
       "32. 4\n",
       "33. 1\n",
       "34. 2\n",
       "35. 3\n",
       "36. 4\n",
       "37. 1\n",
       "38. 2\n",
       "39. 3\n",
       "40. 4\n",
       "\n",
       "\n"
      ],
      "text/plain": [
       " [1] 1 2 3 4 1 2 3 4 1 2 3 4 1 2 3 4 1 2 3 4 1 2 3 4 1 2 3 4 1 2 3 4 1 2 3 4 1 2\n",
       "[39] 3 4"
      ]
     },
     "metadata": {},
     "output_type": "display_data"
    },
    {
     "name": "stdout",
     "output_type": "stream",
     "text": [
      "function(x, y){\n",
      "    rep(x, y)\n",
      "}\n"
     ]
    }
   ],
   "source": [
<<<<<<< HEAD
=======
    "############ Comment#############\n",
    "# You missed an apostraphy at the start of the line... \n",
    "# should be something like\n",
    "\n",
    "#' This is a function\n",
    "#'\n",
    "#' @param x number A thing you put in the funciton\n",
    "\n",
    "#etceter\n",
    "\n",
>>>>>>> 0a4689e2286e1c28aa1da06b9c8558f6662d5d54
    "#@param x object that will be replicated\n",
    "#@param y number of times it will be replicated\n",
    "repetition <- function(x, y){\n",
    "    rep(x, y)\n",
    "}\n",
    "repetition(1:4, 10)\n",
    "print(x)"
   ]
  },
  {
   "cell_type": "raw",
   "metadata": {},
   "source": []
  },
  {
   "cell_type": "code",
   "execution_count": 1,
   "metadata": {
    "collapsed": false,
    "scrolled": true
   },
   "outputs": [
    {
     "data": {
      "text/html": [
       "'O lato loeu a loupa do lei de loma'"
      ],
      "text/latex": [
       "'O lato loeu a loupa do lei de loma'"
      ],
      "text/markdown": [
       "'O lato loeu a loupa do lei de loma'"
      ],
      "text/plain": [
       "[1] \"O lato loeu a loupa do lei de loma\""
      ]
     },
     "metadata": {},
     "output_type": "display_data"
    }
   ],
   "source": [
    "#@param pattern identifies the pattern you want to replace\n",
    "#@param replacement defines what it should be replaced for\n",
    "#@param phrase sets the object the function is going to analyze and make the replacements\n",
    "#\"Cebolinha\" is a character from a brazilian comic book for children. He always pronounces the R's as L's\n",
    "cebolinha <- function(pattern, replacement, phrase){\n",
    "    gsub(pattern, replacement, phrase)\n",
    "}\n",
    "cebolinha('r','l','O rato roeu a roupa do rei de roma')"
   ]
  },
  {
   "cell_type": "code",
   "execution_count": 2,
   "metadata": {
    "collapsed": false
   },
   "outputs": [
    {
     "data": {
      "text/html": [
       "'character'"
      ],
      "text/latex": [
       "'character'"
      ],
      "text/markdown": [
       "'character'"
      ],
      "text/plain": [
       "[1] \"character\""
      ]
     },
     "metadata": {},
     "output_type": "display_data"
    }
   ],
   "source": [
    "typeof(cebolinha('r','l','O rato roeu a roupa do rei de roma'))"
   ]
  },
  {
   "cell_type": "code",
   "execution_count": 3,
   "metadata": {
    "collapsed": true
   },
   "outputs": [],
   "source": [
    "random_sample <- function(n, F_inv=function(x) x){\n",
    "    u_sample <- runif(n)\n",
    "    return(F_inv(u_sample))\n",
    "}\n"
   ]
  },
  {
   "cell_type": "code",
   "execution_count": 6,
   "metadata": {
    "collapsed": false
   },
   "outputs": [
    {
     "data": {
      "text/html": [
       "<ol class=list-inline>\n",
       "\t<li>0.869241278618574</li>\n",
       "\t<li>0.497821748023853</li>\n",
       "\t<li>0.326974262017757</li>\n",
       "\t<li>0.643289831699803</li>\n",
       "</ol>\n"
      ],
      "text/latex": [
       "\\begin{enumerate*}\n",
       "\\item 0.869241278618574\n",
       "\\item 0.497821748023853\n",
       "\\item 0.326974262017757\n",
       "\\item 0.643289831699803\n",
       "\\end{enumerate*}\n"
      ],
      "text/markdown": [
       "1. 0.869241278618574\n",
       "2. 0.497821748023853\n",
       "3. 0.326974262017757\n",
       "4. 0.643289831699803\n",
       "\n",
       "\n"
      ],
      "text/plain": [
       "[1] 0.8692413 0.4978217 0.3269743 0.6432898"
      ]
     },
     "metadata": {},
     "output_type": "display_data"
    },
    {
     "data": {
      "text/html": [
       "<ol class=list-inline>\n",
       "\t<li>4.99890051782131</li>\n",
       "\t<li>3.19767626002431</li>\n",
       "\t<li>8.89857996953651</li>\n",
       "\t<li>7.38889074418694</li>\n",
       "</ol>\n"
      ],
      "text/latex": [
       "\\begin{enumerate*}\n",
       "\\item 4.99890051782131\n",
       "\\item 3.19767626002431\n",
       "\\item 8.89857996953651\n",
       "\\item 7.38889074418694\n",
       "\\end{enumerate*}\n"
      ],
      "text/markdown": [
       "1. 4.99890051782131\n",
       "2. 3.19767626002431\n",
       "3. 8.89857996953651\n",
       "4. 7.38889074418694\n",
       "\n",
       "\n"
      ],
      "text/plain": [
       "[1] 4.998901 3.197676 8.898580 7.388891"
      ]
     },
     "metadata": {},
     "output_type": "display_data"
    },
    {
     "data": {
      "text/html": [
       "<ol class=list-inline>\n",
       "\t<li>0.466071197530255</li>\n",
       "\t<li>0.00142087764106691</li>\n",
       "\t<li>0.888454932486638</li>\n",
       "\t<li>0.953228072496131</li>\n",
       "</ol>\n"
      ],
      "text/latex": [
       "\\begin{enumerate*}\n",
       "\\item 0.466071197530255\n",
       "\\item 0.00142087764106691\n",
       "\\item 0.888454932486638\n",
       "\\item 0.953228072496131\n",
       "\\end{enumerate*}\n"
      ],
      "text/markdown": [
       "1. 0.466071197530255\n",
       "2. 0.00142087764106691\n",
       "3. 0.888454932486638\n",
       "4. 0.953228072496131\n",
       "\n",
       "\n"
      ],
      "text/plain": [
       "[1] 0.466071198 0.001420878 0.888454932 0.953228072"
      ]
     },
     "metadata": {},
     "output_type": "display_data"
    },
    {
     "data": {
      "text/html": [
       "<ol class=list-inline>\n",
       "\t<li>0.575059347320348</li>\n",
       "\t<li>1.40007492387667</li>\n",
       "\t<li>2.27503011003137</li>\n",
       "\t<li>0.807676699478179</li>\n",
       "</ol>\n"
      ],
      "text/latex": [
       "\\begin{enumerate*}\n",
       "\\item 0.575059347320348\n",
       "\\item 1.40007492387667\n",
       "\\item 2.27503011003137\n",
       "\\item 0.807676699478179\n",
       "\\end{enumerate*}\n"
      ],
      "text/markdown": [
       "1. 0.575059347320348\n",
       "2. 1.40007492387667\n",
       "3. 2.27503011003137\n",
       "4. 0.807676699478179\n",
       "\n",
       "\n"
      ],
      "text/plain": [
       "[1] 0.5750593 1.4000749 2.2750301 0.8076767"
      ]
     },
     "metadata": {},
     "output_type": "display_data"
    }
   ],
   "source": [
    "random_sample(4)\n",
    "\n",
    "F_inv_unif <- function(x, a, b) x*(b - a) + a\n",
    "random_sample(4, F_inv=function(x) F_inv_unif(x, 0, 10))\n",
    "    \n",
    "random_sample(n=4)\n",
    "\n",
    "random_sample(4, function(x) F_inv_unif(x, 0, 10))"
   ]
  },
  {
   "cell_type": "code",
   "execution_count": null,
   "metadata": {
    "collapsed": true
   },
   "outputs": [],
   "source": []
  }
 ],
 "metadata": {
  "anaconda-cloud": {},
  "kernelspec": {
   "display_name": "R",
   "language": "R",
   "name": "ir"
  },
  "language_info": {
   "codemirror_mode": "r",
   "file_extension": ".r",
   "mimetype": "text/x-r-source",
   "name": "R",
   "pygments_lexer": "r",
   "version": "3.3.1"
  }
 },
 "nbformat": 4,
 "nbformat_minor": 0
}
