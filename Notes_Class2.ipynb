{
 "cells": [
  {
   "cell_type": "code",
   "execution_count": 1,
   "metadata": {
    "collapsed": true
   },
   "outputs": [],
   "source": [
    "w <- 100"
   ]
  },
  {
   "cell_type": "code",
   "execution_count": 3,
   "metadata": {
    "collapsed": true
   },
   "outputs": [],
   "source": [
    "w = 100"
   ]
  },
  {
   "cell_type": "code",
   "execution_count": 4,
   "metadata": {
    "collapsed": false
   },
   "outputs": [
    {
     "data": {
      "text/html": [
       "100"
      ],
      "text/latex": [
       "100"
      ],
      "text/markdown": [
       "100"
      ],
      "text/plain": [
       "[1] 100"
      ]
     },
     "metadata": {},
     "output_type": "display_data"
    }
   ],
   "source": [
    "w"
   ]
  },
  {
   "cell_type": "code",
   "execution_count": 6,
   "metadata": {
    "collapsed": false
   },
   "outputs": [
    {
     "data": {
      "text/html": [
       "0.325619357870892"
      ],
      "text/latex": [
       "0.325619357870892"
      ],
      "text/markdown": [
       "0.325619357870892"
      ],
      "text/plain": [
       "[1] 0.3256194"
      ]
     },
     "metadata": {},
     "output_type": "display_data"
    }
   ],
   "source": [
    "p<-runif(1)\n",
    "p"
   ]
  },
  {
   "cell_type": "code",
   "execution_count": 7,
   "metadata": {
    "collapsed": false
   },
   "outputs": [
    {
     "data": {
      "text/html": [
       "0.325619357870892"
      ],
      "text/latex": [
       "0.325619357870892"
      ],
      "text/markdown": [
       "0.325619357870892"
      ],
      "text/plain": [
       "[1] 0.3256194"
      ]
     },
     "metadata": {},
     "output_type": "display_data"
    }
   ],
   "source": [
    "p"
   ]
  },
  {
   "cell_type": "code",
   "execution_count": 14,
   "metadata": {
    "collapsed": false
   },
   "outputs": [
    {
     "data": {
      "text/html": [
       "0.0729973057750612"
      ],
      "text/latex": [
       "0.0729973057750612"
      ],
      "text/markdown": [
       "0.0729973057750612"
      ],
      "text/plain": [
       "[1] 0.07299731"
      ]
     },
     "metadata": {},
     "output_type": "display_data"
    },
    {
     "data": {
      "text/html": [
       "1"
      ],
      "text/latex": [
       "1"
      ],
      "text/markdown": [
       "1"
      ],
      "text/plain": [
       "[1] 1"
      ]
     },
     "metadata": {},
     "output_type": "display_data"
    }
   ],
   "source": [
    "p <- 0.3\n",
    "x <- runif(1)\n",
    "if(x > p){\n",
    "    win <- 0\n",
    "} else{\n",
    "    win <- 1\n",
    "}\n",
    "x\n",
    "win"
   ]
  },
  {
   "cell_type": "code",
   "execution_count": 6,
   "metadata": {
    "collapsed": false
   },
   "outputs": [
    {
     "name": "stdout",
     "output_type": "stream",
     "text": [
      "[1] \"high\"\n"
     ]
    }
   ],
   "source": [
    "if(runif(1)>0.5){\n",
    "    print(\"high\")\n",
    "} else if(runif(1)>0.9){\n",
    "    print(\"higher\")\n",
    "}"
   ]
  },
  {
   "cell_type": "markdown",
   "metadata": {
    "collapsed": true
   },
   "source": []
  },
  {
   "cell_type": "code",
   "execution_count": 13,
   "metadata": {
    "collapsed": false
   },
   "outputs": [
    {
     "data": {
      "text/html": [
       "'you started with 100 euros.'"
      ],
      "text/latex": [
       "'you started with 100 euros.'"
      ],
      "text/markdown": [
       "'you started with 100 euros.'"
      ],
      "text/plain": [
       "[1] \"you started with 100 euros.\""
      ]
     },
     "metadata": {},
     "output_type": "display_data"
    },
    {
     "name": "stdout",
     "output_type": "stream",
     "text": [
      "[1] \"you lose\"\n"
     ]
    },
    {
     "data": {
      "text/html": [
       "\"Now you've got 99 euros.\""
      ],
      "text/latex": [
       "\"Now you've got 99 euros.\""
      ],
      "text/markdown": [
       "\"Now you've got 99 euros.\""
      ],
      "text/plain": [
       "[1] \"Now you've got 99 euros.\""
      ]
     },
     "metadata": {},
     "output_type": "display_data"
    }
   ],
   "source": [
    "w<-100\n",
    "p<-0.3\n",
    "\n",
    "x<- runif(1)\n",
    "sprintf(\"you started with %s euros.\", w)\n",
    "\n",
    "if(x>p){\n",
    "    w<-w-1\n",
    "    print(\"you lose\")\n",
    "} else {\n",
    "    w<-w+1\n",
    "    print(\"you win\")\n",
    "}\n",
    "sprintf(\"Now you've got %s euros.\", w)"
   ]
  },
  {
   "cell_type": "code",
   "execution_count": 14,
   "metadata": {
    "collapsed": false
   },
   "outputs": [
    {
     "name": "stdout",
     "output_type": "stream",
     "text": [
      "[1] 1\n",
      "[1] 2\n",
      "[1] 3\n",
      "[1] 4\n",
      "[1] 5\n",
      "[1] 6\n",
      "[1] 7\n",
      "[1] 8\n",
      "[1] 9\n",
      "[1] 10\n"
     ]
    }
   ],
   "source": [
    "for(i in 1:10){\n",
    "    print(i)\n",
    "}"
   ]
  },
  {
   "cell_type": "code",
   "execution_count": 16,
   "metadata": {
    "collapsed": false
   },
   "outputs": [
    {
     "name": "stdout",
     "output_type": "stream",
     "text": [
      "[1] 1\n",
      "[1] 2\n",
      "[1] 3\n",
      "[1] 4\n",
      "[1] 5\n",
      "[1] 6\n",
      "[1] 7\n",
      "[1] 8\n",
      "[1] 9\n",
      "[1] 10\n"
     ]
    }
   ],
   "source": [
    "i <- 0\n",
    "while(i<10){\n",
    "    i <- i+1\n",
    "    print(i)\n",
    "}"
   ]
  },
  {
   "cell_type": "code",
   "execution_count": 21,
   "metadata": {
    "collapsed": false
   },
   "outputs": [
    {
     "name": "stdout",
     "output_type": "stream",
     "text": [
      "[1] \"you started with 100 euros.\"\n",
      "[1] \"you lose\"\n",
      "[1] \"Now you've got 99 euros.\"\n",
      "[1] \"you started with 99 euros.\"\n",
      "[1] \"you lose\"\n",
      "[1] \"Now you've got 98 euros.\"\n",
      "[1] \"you started with 98 euros.\"\n",
      "[1] \"you win\"\n",
      "[1] \"Now you've got 99 euros.\"\n",
      "[1] \"you started with 99 euros.\"\n",
      "[1] \"you lose\"\n",
      "[1] \"Now you've got 98 euros.\"\n",
      "[1] \"you started with 98 euros.\"\n",
      "[1] \"you lose\"\n",
      "[1] \"Now you've got 97 euros.\"\n",
      "[1] \"you started with 97 euros.\"\n",
      "[1] \"you win\"\n",
      "[1] \"Now you've got 98 euros.\"\n",
      "[1] \"you started with 98 euros.\"\n",
      "[1] \"you lose\"\n",
      "[1] \"Now you've got 97 euros.\"\n",
      "[1] \"you started with 97 euros.\"\n",
      "[1] \"you win\"\n",
      "[1] \"Now you've got 98 euros.\"\n",
      "[1] \"you started with 98 euros.\"\n",
      "[1] \"you lose\"\n",
      "[1] \"Now you've got 97 euros.\"\n",
      "[1] \"you started with 97 euros.\"\n",
      "[1] \"you win\"\n",
      "[1] \"Now you've got 98 euros.\"\n"
     ]
    }
   ],
   "source": [
    "w<-100\n",
    "p<-0.3\n",
    "\n",
    "T <- 10\n",
    "while(T>0){\n",
    "    x <- runif(1)\n",
    "    \n",
    "    print(sprintf(\"you started with %s euros.\", w))\n",
    "\n",
    "    if(x>p){\n",
    "        w<-w-1\n",
    "        print(\"you lose\")\n",
    "    } else {\n",
    "        w<-w+1\n",
    "        print(\"you win\")\n",
    "    }\n",
    "    print(sprintf(\"Now you've got %s euros.\", w))\n",
    "    \n",
    "    T<-T-1\n",
    "}"
   ]
  },
  {
   "cell_type": "code",
   "execution_count": 22,
   "metadata": {
    "collapsed": false
   },
   "outputs": [
    {
     "data": {
      "text/html": [
       "<ol class=list-inline>\n",
       "\t<li>1</li>\n",
       "\t<li>2</li>\n",
       "\t<li>3</li>\n",
       "</ol>\n"
      ],
      "text/latex": [
       "\\begin{enumerate*}\n",
       "\\item 1\n",
       "\\item 2\n",
       "\\item 3\n",
       "\\end{enumerate*}\n"
      ],
      "text/markdown": [
       "1. 1\n",
       "2. 2\n",
       "3. 3\n",
       "\n",
       "\n"
      ],
      "text/plain": [
       "[1] 1 2 3"
      ]
     },
     "metadata": {},
     "output_type": "display_data"
    }
   ],
   "source": [
    "x <- c(1, 2, 3)\n",
    "x"
   ]
  },
  {
   "cell_type": "code",
   "execution_count": 24,
   "metadata": {
    "collapsed": false
   },
   "outputs": [
    {
     "data": {
      "text/html": [
       "<table>\n",
       "<tbody>\n",
       "\t<tr><td>1</td><td>3</td><td>2</td></tr>\n",
       "\t<tr><td>2</td><td>1</td><td>3</td></tr>\n",
       "</tbody>\n",
       "</table>\n"
      ],
      "text/latex": [
       "\\begin{tabular}{lll}\n",
       "\t 1 & 3 & 2\\\\\n",
       "\t 2 & 1 & 3\\\\\n",
       "\\end{tabular}\n"
      ],
      "text/markdown": [
       "1. 1\n",
       "2. 2\n",
       "3. 3\n",
       "4. 1\n",
       "5. 2\n",
       "6. 3\n",
       "\n",
       "\n"
      ],
      "text/plain": [
       "     [,1] [,2] [,3]\n",
       "[1,]    1    3    2\n",
       "[2,]    2    1    3"
      ]
     },
     "metadata": {},
     "output_type": "display_data"
    }
   ],
   "source": [
    "matrix <- matrix(c(x, x), nrow=2)\n",
    "matrix\n"
   ]
  },
  {
   "cell_type": "code",
   "execution_count": 25,
   "metadata": {
    "collapsed": false
   },
   "outputs": [
    {
     "data": {
      "text/html": [
       "3"
      ],
      "text/latex": [
       "3"
      ],
      "text/markdown": [
       "3"
      ],
      "text/plain": [
       "[1] 3"
      ]
     },
     "metadata": {},
     "output_type": "display_data"
    }
   ],
   "source": [
    "x[3]"
   ]
  },
  {
   "cell_type": "code",
   "execution_count": 26,
   "metadata": {
    "collapsed": false
   },
   "outputs": [
    {
     "data": {
      "text/html": [
       "1"
      ],
      "text/latex": [
       "1"
      ],
      "text/markdown": [
       "1"
      ],
      "text/plain": [
       "[1] 1"
      ]
     },
     "metadata": {},
     "output_type": "display_data"
    }
   ],
   "source": [
    "matrix[2, 2]"
   ]
  },
  {
   "cell_type": "code",
   "execution_count": 6,
   "metadata": {
    "collapsed": false
   },
   "outputs": [
    {
     "name": "stdout",
     "output_type": "stream",
     "text": [
      "[1] \"you lose\"\n",
      "[1] \"Now you've got 99 euros.\"\n",
      "[1] \"you lose\"\n",
      "[1] \"Now you've got 98 euros.\"\n",
      "[1] \"you win\"\n",
      "[1] \"Now you've got 99 euros.\"\n",
      "[1] \"you lose\"\n",
      "[1] \"Now you've got 98 euros.\"\n",
      "[1] \"you lose\"\n",
      "[1] \"Now you've got 97 euros.\"\n",
      "[1] \"you lose\"\n",
      "[1] \"Now you've got 96 euros.\"\n",
      "[1] \"you win\"\n",
      "[1] \"Now you've got 97 euros.\"\n",
      "[1] \"you lose\"\n",
      "[1] \"Now you've got 96 euros.\"\n",
      "[1] \"you win\"\n",
      "[1] \"Now you've got 97 euros.\"\n",
      "[1] \"you lose\"\n",
      "[1] \"Now you've got 96 euros.\"\n"
     ]
    }
   ],
   "source": [
    "w0 <- 100\n",
    "p <- 0.3\n",
    "\n",
    "T <- 10\n",
    "time_periods <- T+1\n",
    "w <- rep(0, T+1)\n",
    "w[1] <- w0\n",
    "\n",
    "X <- rep(0,T)\n",
    "i <- 1\n",
    "\n",
    "while(T>0){\n",
    "    x <- runif(1)\n",
    "    \n",
    "    #print(sprintf(\"you started with %s euros.\", w))\n",
    "\n",
    "    if(x>p){\n",
    "        w[i+1] <- w[i]-1\n",
    "        X[i] <- 0\n",
    "        print(\"you lose\")\n",
    "    } else {\n",
    "        w[i+1] <- w[i]+1\n",
    "        X[i] <- 1\n",
    "        print(\"you win\")\n",
    "    }\n",
    "    print(sprintf(\"Now you've got %s euros.\", w[i+1]))\n",
    "    \n",
    "    T <- T-1\n",
    "    i <- i+1\n",
    "}"
   ]
  },
  {
   "cell_type": "code",
   "execution_count": 5,
   "metadata": {
    "collapsed": false
   },
   "outputs": [
    {
     "data": {
      "text/html": [
       "<ol class=list-inline>\n",
       "\t<li>100</li>\n",
       "\t<li>99</li>\n",
       "\t<li>98</li>\n",
       "\t<li>99</li>\n",
       "\t<li>98</li>\n",
       "\t<li>97</li>\n",
       "\t<li>96</li>\n",
       "\t<li>97</li>\n",
       "\t<li>98</li>\n",
       "\t<li>99</li>\n",
       "\t<li>100</li>\n",
       "</ol>\n"
      ],
      "text/latex": [
       "\\begin{enumerate*}\n",
       "\\item 100\n",
       "\\item 99\n",
       "\\item 98\n",
       "\\item 99\n",
       "\\item 98\n",
       "\\item 97\n",
       "\\item 96\n",
       "\\item 97\n",
       "\\item 98\n",
       "\\item 99\n",
       "\\item 100\n",
       "\\end{enumerate*}\n"
      ],
      "text/markdown": [
       "1. 100\n",
       "2. 99\n",
       "3. 98\n",
       "4. 99\n",
       "5. 98\n",
       "6. 97\n",
       "7. 96\n",
       "8. 97\n",
       "9. 98\n",
       "10. 99\n",
       "11. 100\n",
       "\n",
       "\n"
      ],
      "text/plain": [
       " [1] 100  99  98  99  98  97  96  97  98  99 100"
      ]
     },
     "metadata": {},
     "output_type": "display_data"
    }
   ],
   "source": [
    "w"
   ]
  },
  {
   "cell_type": "code",
   "execution_count": 7,
   "metadata": {
    "collapsed": false
   },
   "outputs": [
    {
     "data": {
      "image/png": "[encoded data removed]",
      "text/plain": [
       "plot without title"
      ]
     },
     "metadata": {
      "image/svg+xml": {
       "isolated": true
      }
     },
     "output_type": "display_data"
    }
   ],
   "source": [
    "plot(1:time_periods, w)"
   ]
  },
  {
   "cell_type": "code",
   "execution_count": 8,
   "metadata": {
    "collapsed": false
   },
   "outputs": [
    {
     "data": {
      "image/png": "[encoded data removed]",
      "text/plain": [
       "plot without title"
      ]
     },
     "metadata": {
      "image/svg+xml": {
       "isolated": true
      }
     },
     "output_type": "display_data"
    }
   ],
   "source": [
    "plot(1:time_periods, w, type='l')"
   ]
  },
  {
   "cell_type": "code",
   "execution_count": 9,
   "metadata": {
    "collapsed": false
   },
   "outputs": [
    {
     "data": {
      "image/png": "[encoded data removed]",
      "text/plain": [
       "plot without title"
      ]
     },
     "metadata": {
      "image/svg+xml": {
       "isolated": true
      }
     },
     "output_type": "display_data"
    }
   ],
   "source": [
    "w0 <- 100\n",
    "p <- 0.3\n",
    "\n",
    "T <- 10000\n",
    "time_periods <- T+1\n",
    "w <- rep(0, T+1)\n",
    "w[1] <- w0\n",
    "\n",
    "X <- rep(0,T)\n",
    "i <- 1\n",
    "\n",
    "while(T>0){\n",
    "    x <- runif(1)\n",
    "    \n",
    "    #print(sprintf(\"you started with %s euros.\", w))\n",
    "\n",
    "    if(x>p){\n",
    "        w[i+1] <- w[i]-1\n",
    "        X[i] <- 0\n",
    "        #print(\"you lose\")\n",
    "    } else {\n",
    "        w[i+1] <- w[i]+1\n",
    "        X[i] <- 1\n",
    "        #print(\"you win\")\n",
    "    }\n",
    "    #print(sprintf(\"Now you've got %s euros.\", w[i+1]))\n",
    "    \n",
    "    T <- T-1\n",
    "    i <- i+1\n",
    "}\n",
    "plot(1:time_periods, w, type='l')"
   ]
  },
  {
   "cell_type": "code",
   "execution_count": null,
   "metadata": {
    "collapsed": true
   },
   "outputs": [],
   "source": []
  }
 ],
 "metadata": {
  "anaconda-cloud": {},
  "kernelspec": {
   "display_name": "R",
   "language": "R",
   "name": "ir"
  },
  "language_info": {
   "codemirror_mode": "r",
   "file_extension": ".r",
   "mimetype": "text/x-r-source",
   "name": "R",
   "pygments_lexer": "r",
   "version": "3.3.1"
  }
 },
 "nbformat": 4,
 "nbformat_minor": 0
}
